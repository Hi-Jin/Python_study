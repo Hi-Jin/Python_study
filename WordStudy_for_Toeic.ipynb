{
 "cells": [
  {
   "cell_type": "markdown",
   "metadata": {},
   "source": [
    "# Word Study for Toeic"
   ]
  },
  {
   "cell_type": "markdown",
   "metadata": {},
   "source": [
    "## Using Youglish"
   ]
  },
  {
   "cell_type": "code",
   "execution_count": 20,
   "metadata": {},
   "outputs": [
    {
     "data": {
      "text/plain": [
       "True"
      ]
     },
     "execution_count": 20,
     "metadata": {},
     "output_type": "execute_result"
    }
   ],
   "source": [
    "url = \"https://youglish.com/search/\" + word + \"/us?\"\n",
    "\n",
    "import webbrowser\n",
    "webbrowser.open(url)"
   ]
  },
  {
   "cell_type": "markdown",
   "metadata": {},
   "source": [
    "## Using Fraze.it"
   ]
  },
  {
   "cell_type": "code",
   "execution_count": 66,
   "metadata": {},
   "outputs": [
    {
     "name": "stdout",
     "output_type": "stream",
     "text": [
      "모르는 단어: word\n",
      "There was no immediate word on how much oil was involved, or where it came from.  \n",
      "When it comes to personal protection, the Mexican government gets the last word.  \n",
      "On bad days we got chipped beef on toast, and that's how I discovered that word.  \n",
      "There is no word yet on how this incident will affect his multiple endorsements.  \n",
      "They tried to avoid the word Liberals and now they wish they could have it back.  \n",
      "It was like hearing every third word and trying to jump-rope into the storyline.  \n",
      "Apparently, she passed the word on to the show's producers, who contacted Tyler.  \n",
      "So which word goes top-of-the-table on my life list of the best words in sports?  \n"
     ]
    }
   ],
   "source": [
    "word = input(\"모르는 단어: \")\n",
    "\n",
    "import requests\n",
    "from bs4 import BeautifulSoup\n",
    "\n",
    "url = \"https://fraze.it/n_search.jsp?hardm=1&t=0&l=0&p=1&q=\" + word # p == page_num\n",
    "\n",
    "html_doc = requests.get(url).text\n",
    "soup = BeautifulSoup(html_doc, \"html.parser\")\n",
    "\n",
    "for i in range(8):\n",
    "    print(soup.find_all('div', class_='qu_txt')[i].text.replace(\"(open, save, copy)\", \"\"))"
   ]
  },
  {
   "cell_type": "code",
   "execution_count": null,
   "metadata": {},
   "outputs": [],
   "source": []
  }
 ],
 "metadata": {
  "kernelspec": {
   "display_name": "Python 3",
   "language": "python",
   "name": "python3"
  },
  "language_info": {
   "codemirror_mode": {
    "name": "ipython",
    "version": 3
   },
   "file_extension": ".py",
   "mimetype": "text/x-python",
   "name": "python",
   "nbconvert_exporter": "python",
   "pygments_lexer": "ipython3",
   "version": "3.7.3"
  }
 },
 "nbformat": 4,
 "nbformat_minor": 2
}
