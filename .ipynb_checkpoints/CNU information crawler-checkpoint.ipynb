{
 "cells": [
  {
   "cell_type": "code",
   "execution_count": 1,
   "metadata": {},
   "outputs": [],
   "source": [
    "import requests\n",
    "\n",
    "def search_info():\n",
    "    num = []\n",
    "    time = []\n",
    "    title = []\n",
    "\n",
    "    r = requests.get(url).text\n",
    "\n",
    "    list = r.split(\"<td class=\\\"no\\\" >\")\n",
    "\n",
    "    for i in range(1, len(list)):\n",
    "        time.append(list[i].split(\"<td class=\\\"time\\\" title=\")[1].split(\"</td>\")[0].split(\">\")[1])\n",
    "        if int(month) == int(time[i - 1][5:7]) and int(day) - 7 <= int(time[i - 1][8:10]):\n",
    "            num.append(list[i].split(\"</td>\")[0].split(\"\\n\")[1].split(\"\\t\\t\\t\\t\\t\\t\\t\\t\")[1])\n",
    "            length = len(list[i].split(\"</td>\")[1].split(\"</a>\")[0].split(\">\"))\n",
    "            title.append(list[i].split(\"</td>\")[1].split(\"</a>\")[0].split(\">\")[length - 1].split(\"\\n\")[1])\n",
    "            print(\"\\n\", num[i - 1], time[i - 1], title[i - 1])"
   ]
  },
  {
   "cell_type": "code",
   "execution_count": 2,
   "metadata": {},
   "outputs": [],
   "source": [
    "def search_important():\n",
    "    num = []\n",
    "    time = []\n",
    "    title = []\n",
    "\n",
    "    r = requests.get(url).text\n",
    "\n",
    "    list = r.split(\"<td class=\\\"no\\\">\\n\\t\\t\\t\\t<strong>\")\n",
    "\n",
    "    for i in range(1, len(list)):\n",
    "        time.append(list[i].split(\"<td class=\\\"time\\\">\")[1].split(\"</td>\")[0])\n",
    "        if int(month) == int(time[i - 1][5:7]) and int(day) - 7 <= int(time[i-1][8:10]):\n",
    "            num.append(list[i].split(\"</strong>\")[0])\n",
    "            title.append(list[i].split(\"><strong>\")[1].split(\"</strong></a>\")[0])\n",
    "\n",
    "\t\t##오류가 나는 라인\n",
    "            print(\"\\n\", num[i - 1], \"               \", time[i - 1], \"                   \", title[i - 1])\n",
    "\n",
    "selection = 1;"
   ]
  },
  {
   "cell_type": "code",
   "execution_count": 4,
   "metadata": {},
   "outputs": [
    {
     "name": "stdout",
     "output_type": "stream",
     "text": [
      "오늘의 날짜를 입력하세요\n",
      "월 : 7\n",
      "일 : 24\n"
     ]
    }
   ],
   "source": [
    "print(\"오늘의 날짜를 입력하세요\")\n",
    "print(\"월 : \", end = \"\")\n",
    "month = input()\n",
    "print(\"일 : \", end = \"\")\n",
    "day = input()\n",
    "\n",
    "while selection == 1 or selection == 2 or selection == 3:\n",
    "    print(\"-----------------------------------------------------------\")\n",
    "    print(\"-----------------------------------------------------------\")\n",
    "    print(\"어떤 정보를 원하시나요? [1.사업단소식 | 2.학사공지 | 3.일반소식 | 4.종료] \")\n",
    "    selection = int(input())\n",
    "\n",
    "    if(selection == 1):\n",
    "        url = \"http://computer.cnu.ac.kr/index.php?mid=saccord\"\n",
    "        search_info()\n",
    "    elif(selection == 2):\n",
    "        url = \"http://computer.cnu.ac.kr/index.php?mid=notice\"\n",
    "        search_important()\n",
    "        search_info()\n",
    "    elif(selection == 3):\n",
    "        url = \"http://computer.cnu.ac.kr/index.php?mid=gnotice\"\n",
    "        search_important()\n",
    "        search_info()"
   ]
  },
  {
   "cell_type": "markdown",
   "metadata": {},
   "source": []
  }
 ],
 "metadata": {
  "kernelspec": {
   "display_name": "Python 3",
   "language": "python",
   "name": "python3"
  },
  "language_info": {
   "codemirror_mode": {
    "name": "ipython",
    "version": 3
   },
   "file_extension": ".py",
   "mimetype": "text/x-python",
   "name": "python",
   "nbconvert_exporter": "python",
   "pygments_lexer": "ipython3",
   "version": "3.7.3"
  }
 },
 "nbformat": 4,
 "nbformat_minor": 2
}
