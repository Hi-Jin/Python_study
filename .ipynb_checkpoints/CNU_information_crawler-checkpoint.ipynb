{
 "cells": [
  {
   "cell_type": "code",
   "execution_count": 8,
   "metadata": {},
   "outputs": [],
   "source": [
    "import requests\n",
    "from bs4 import BeautifulSoup\n",
    "\n",
    "def get_select(selection):\n",
    "    if selection == 1:\n",
    "        url = \"https://computer.cnu.ac.kr/computer/notice/bachelor.do\"\n",
    "        get_info(url)\n",
    "        get_select(int(input(\"숫자를 입력하세요. 1.학사공지 / 2.일반소식 / 3.사업단소식 / 4. 종료\\n\")))\n",
    "    elif selection == 2:\n",
    "        url = \"https://computer.cnu.ac.kr/computer/notice/notice.do\"\n",
    "        get_info(url)\n",
    "        get_select(int(input(\"숫자를 입력하세요. 1.학사공지 / 2.일반소식 / 3.사업단소식 / 4. 종료\\n\")))\n",
    "    elif selection == 3:\n",
    "        url = \"https://computer.cnu.ac.kr/computer/notice/project.do\"\n",
    "        get_info(url)\n",
    "        get_select(int(input(\"숫자를 입력하세요. 1.학사공지 / 2.일반소식 / 3.사업단소식 / 4. 종료\\n\")))\n",
    "    elif selection ==4:\n",
    "        print(\"이용해주셔서 감사합니다.\\n\")\n",
    "    else:\n",
    "        get_select(int(input(\"다시 입력하세요. 1.학사공지 / 2.일반소식 / 3.사업단소식 / 4. 종료\\n\")))\n",
    "\n",
    "def get_info(url):\n",
    "    html_doc = requests.get(url).text\n",
    "    soup = BeautifulSoup(html_doc, 'html.parser')\n",
    "\n",
    "    data_count = len(soup.find_all('td', class_='b-num-box'))\n",
    "    for i in range(data_count):\n",
    "        d_num = soup.find_all('td', class_='b-num-box')[i].string.replace(\"\\t\", \"\").replace(\"\\r\", \"\").replace(\"\\n\", \"\").replace(\" \", \"\")\n",
    "        d_title = soup.find_all('div', class_='b-title-box')[i].find('a').text.replace(\"\\t\", \"\").replace(\"[공지]\", \"\").replace(\"\\n\", \"\").replace(\"\\r\", \"\").replace(\" \", \"\")\n",
    "        d_date = soup.find_all('span', class_='b-date')[i].string.replace(\"\\t\", \"\").replace(\"\\r\", \"\").replace(\"\\n\", \"\").replace(\" \", \"\")\n",
    "        print(\"[\" + d_num + \"]\" + \" \" + d_date + \" \" + d_title)"
   ]
  },
  {
   "cell_type": "code",
   "execution_count": 9,
   "metadata": {},
   "outputs": [
    {
     "name": "stdout",
     "output_type": "stream",
     "text": [
      "숫자를 입력하세요. 1.학사공지 / 2.일반소식 / 3.사업단소식 / 4. 종료\n",
      "4\n",
      "이용해주셔서 감사합니다.\n",
      "\n"
     ]
    }
   ],
   "source": [
    "get_select(int(input(\"숫자를 입력하세요. 1.학사공지 / 2.일반소식 / 3.사업단소식 / 4. 종료\\n\")))"
   ]
  },
  {
   "cell_type": "code",
   "execution_count": null,
   "metadata": {},
   "outputs": [],
   "source": []
  }
 ],
 "metadata": {
  "kernelspec": {
   "display_name": "Python 3",
   "language": "python",
   "name": "python3"
  },
  "language_info": {
   "codemirror_mode": {
    "name": "ipython",
    "version": 3
   },
   "file_extension": ".py",
   "mimetype": "text/x-python",
   "name": "python",
   "nbconvert_exporter": "python",
   "pygments_lexer": "ipython3",
   "version": "3.7.3"
  }
 },
 "nbformat": 4,
 "nbformat_minor": 2
}
